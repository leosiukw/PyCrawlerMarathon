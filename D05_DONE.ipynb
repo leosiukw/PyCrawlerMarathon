{
 "cells": [
  {
   "cell_type": "markdown",
   "metadata": {},
   "source": [
    "# API 資料串接 - 以 Dcard API 實作範例\n",
    "\n",
    "* 了解 Dcard API 使用方式與回傳內容\n",
    "* 撰寫程式存取 API 且解析 JSON 格式資料\n"
   ]
  },
  {
   "cell_type": "markdown",
   "metadata": {},
   "source": [
    "## 作業目標\n",
    "\n",
    "* 請利用 API: https://www.dcard.tw/_api/forums/pet/posts?popular=true 回答下列問題：\n",
    "\n",
    "1. 這個 API 一次會回傳幾筆資料？每一筆資料包含哪些欄位？\n",
    "2. 取出每一筆資料的「標題」、「貼文時間」、「留言人數」、「按讚人數」\n",
    "3. 計算熱門/非熱門文章的「平均留言人數」與「平均按讚人數」"
   ]
  },
  {
   "cell_type": "code",
   "execution_count": 11,
   "metadata": {},
   "outputs": [
    {
     "name": "stdout",
     "output_type": "stream",
     "text": [
      "length of data is 30\n",
      "id\n",
      "title\n",
      "excerpt\n",
      "anonymousSchool\n",
      "anonymousDepartment\n",
      "pinned\n",
      "forumId\n",
      "replyId\n",
      "createdAt\n",
      "updatedAt\n",
      "commentCount\n",
      "likeCount\n",
      "withNickname\n",
      "tags\n",
      "topics\n",
      "meta\n",
      "forumName\n",
      "forumAlias\n",
      "nsfw\n",
      "gender\n",
      "school\n",
      "replyTitle\n",
      "mediaMeta\n",
      "reactions\n",
      "hidden\n",
      "customStyle\n",
      "isSuspiciousAccount\n",
      "layout\n",
      "withImages\n",
      "withVideos\n",
      "media\n",
      "reportReasonText\n",
      "postAvatar\n"
     ]
    }
   ],
   "source": [
    "# 1. 這個 API 一次會回傳幾筆資料？每一筆資料包含哪些欄位？\n",
    "\n",
    "import requests\n",
    "r = requests.get('https://www.dcard.tw/_api/forums/pet/posts?popular=true')\n",
    "response = r.text\n",
    "\n",
    "import json\n",
    "data = json.loads(response)\n",
    "\n",
    "print(\"length of data is\", len(data))\n",
    "\n",
    "for i in data[0].keys():\n",
    "    print(str(i))\n"
   ]
  },
  {
   "cell_type": "code",
   "execution_count": 15,
   "metadata": {},
   "outputs": [
    {
     "name": "stdout",
     "output_type": "stream",
     "text": [
      "貓咪腋下大粉刺！ 2020-06-18T17:05:56.489Z 38 1994\n",
      "有沒有覺得狗狗有時候很像人 2020-06-18T09:29:00.274Z 51 1757\n",
      "鴨鴨養成計畫🐣🦆 2020-06-18T08:39:01.100Z 101 1406\n",
      "當狗狗看到小鴨鴨 2020-06-18T09:10:39.469Z 23 310\n",
      "主子們要注意狗狗抓眼睛的動作！！ 2020-06-18T08:58:37.695Z 21 246\n",
      "七個不要養兔子的理由 2020-06-19T02:49:39.748Z 19 200\n",
      "該怎麼救這隻貓貓(ಥ_ಥ) 2020-06-18T08:58:23.034Z 25 198\n",
      "請問這是什麼品種？🙏 2020-06-18T12:19:27.197Z 30 168\n",
      "想要找大創賣的老鼠球🥺 2020-06-18T18:01:18.459Z 8 111\n",
      "我擁有一隻愛吃生菜🥬の貓兒🐱 2020-06-18T19:09:42.397Z 14 94\n",
      "我就只是要曬貓 2020-06-18T09:04:37.622Z 9 88\n",
      "走過路過不要錯過！！！沒什麼就想讓你們看看什麼是驚喜包，越養越走樣😹😹， 2020-06-18T11:31:02.946Z 9 35\n",
      "想請問這隻貓是什麼品種的 2020-06-18T03:57:41.217Z 18 31\n",
      "20公分鼠條大份-2 2020-06-18T06:20:09.216Z 2 23\n",
      "手中的大寶貝 2020-06-19T05:42:35.901Z 2 18\n",
      "有人家的鼠鼠也會發呆很久的嗎😂 2020-06-18T14:18:27.127Z 4 18\n",
      "送養小小貓~~有愛心，有能力的歡迎聯絡~~ 2020-06-18T15:11:15.645Z 9 17\n",
      "如何陪伴你的狗成長?3.我養了一隻麻煩精(狗兒的天性) 2020-06-19T07:55:22.729Z 4 14\n",
      "亞大吉祥貓 圈圈 #橘貓🐱 2020-06-18T05:33:00.014Z 2 14\n",
      "屏東小奶貓送養 2020-06-18T20:36:52.336Z 5 13\n",
      "我是11歲的兔爺爺🐇（圖多慎入😂 2020-06-19T09:31:07.100Z 3 11\n",
      "協尋愛鳥 2020-06-18T08:46:56.677Z 1 10\n",
      "#圖 我的寵物分享蘇卡達🐢 2020-06-18T10:18:49.392Z 15 9\n",
      "今天這麼熱還是再睡5分鐘好了 2020-06-18T08:29:58.550Z 1 9\n",
      "日本靜岡男子 鉄郎 2020-06-18T14:23:33.982Z 2 7\n",
      "#圖 #柴 豆柴？一般柴？傻傻分不清楚 2020-06-19T07:56:25.554Z 0 5\n",
      "（圖多）又來分享我女兒的奇葩搞怪姿勢啦 2020-06-19T07:08:30.196Z 0 5\n",
      "急！狗狗走丟！ 2020-06-18T17:36:22.757Z 0 4\n",
      "有人知道這是什麼烏龜嗎？ 2020-06-19T10:26:38.622Z 3 3\n",
      "我的老狗Hippo 2020-06-18T06:49:54.203Z 0 3\n"
     ]
    }
   ],
   "source": [
    "# 2. 取出每一筆資料的「標題」、「貼文時間」、「留言人數」、「按讚人數」\n",
    "\n",
    "for row in data:\n",
    "    print(row['title'],row['createdAt'],row['commentCount'],row['likeCount'])"
   ]
  },
  {
   "cell_type": "code",
   "execution_count": 19,
   "metadata": {},
   "outputs": [
    {
     "name": "stdout",
     "output_type": "stream",
     "text": [
      "熱門文章的「平均留言人數」: 13.966666666666667\n",
      "熱門文章的「平均按讚人數」: 227.36666666666667\n",
      "非熱門文章的「平均留言人數」: 2.1\n",
      "非熱門文章的「平均按讚人數」: 10.033333333333333\n"
     ]
    }
   ],
   "source": [
    "# 3. 計算熱門/非熱門文章的「平均留言人數」與「平均按讚人數」\n",
    "\n",
    "import requests\n",
    "r_unpopular = requests.get('https://www.dcard.tw/_api/forums/pet/posts?popular=false')\n",
    "response_unpopular = r_unpopular.text\n",
    "\n",
    "import json\n",
    "data_unpopular = json.loads(response_unpopular)\n",
    "\n",
    "count_popular = len(data)\n",
    "count_unpopular = len(data_unpopular)\n",
    "\n",
    "popular_comment = 0\n",
    "popular_like = 0\n",
    "unpopular_comment = 0\n",
    "unpopular_like = 0\n",
    "\n",
    "for row in data:\n",
    "    popular_comment += row['commentCount']\n",
    "    popular_like += row['likeCount']\n",
    "    \n",
    "for row in data_unpopular:\n",
    "    unpopular_comment += row['commentCount']\n",
    "    unpopular_like += row['likeCount']\n",
    "\n",
    "print(\"熱門文章的「平均留言人數」:\", popular_comment/count_popular)\n",
    "print(\"熱門文章的「平均按讚人數」:\", popular_like/count_popular)\n",
    "print(\"非熱門文章的「平均留言人數」:\", unpopular_comment/count_unpopular)\n",
    "print(\"非熱門文章的「平均按讚人數」:\", unpopular_like/count_unpopular)\n",
    "    "
   ]
  },
  {
   "cell_type": "code",
   "execution_count": null,
   "metadata": {},
   "outputs": [],
   "source": []
  }
 ],
 "metadata": {
  "kernelspec": {
   "display_name": "Python 3",
   "language": "python",
   "name": "python3"
  },
  "language_info": {
   "codemirror_mode": {
    "name": "ipython",
    "version": 3
   },
   "file_extension": ".py",
   "mimetype": "text/x-python",
   "name": "python",
   "nbconvert_exporter": "python",
   "pygments_lexer": "ipython3",
   "version": "3.7.3"
  }
 },
 "nbformat": 4,
 "nbformat_minor": 2
}
